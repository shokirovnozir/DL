{
  "nbformat": 4,
  "nbformat_minor": 0,
  "metadata": {
    "colab": {
      "name": "rottenReviews.ipynb",
      "provenance": [],
      "authorship_tag": "ABX9TyN88f7Olp4omOKw1OW3TaNF",
      "include_colab_link": true
    },
    "kernelspec": {
      "name": "python3",
      "display_name": "Python 3"
    },
    "accelerator": "GPU"
  },
  "cells": [
    {
      "cell_type": "markdown",
      "metadata": {
        "id": "view-in-github",
        "colab_type": "text"
      },
      "source": [
        "<a href=\"https://colab.research.google.com/github/shokirovnozir/DL/blob/master/rottenReviews.ipynb\" target=\"_parent\"><img src=\"https://colab.research.google.com/assets/colab-badge.svg\" alt=\"Open In Colab\"/></a>"
      ]
    },
    {
      "cell_type": "markdown",
      "metadata": {
        "id": "gsGljK4il_rA",
        "colab_type": "text"
      },
      "source": [
        "# Setting Up"
      ]
    },
    {
      "cell_type": "code",
      "metadata": {
        "id": "QYKDiaGw_Bz-",
        "colab_type": "code",
        "colab": {
          "base_uri": "https://localhost:8080/",
          "height": 34
        },
        "outputId": "2cc33d44-ebbb-4c0f-b58c-d0eebae0d38f"
      },
      "source": [
        "# Mount Google Drive\n",
        "from google.colab import drive\n",
        "ROOT = \"/content/drive\"\n",
        "drive.mount(ROOT)"
      ],
      "execution_count": 19,
      "outputs": [
        {
          "output_type": "stream",
          "text": [
            "Mounted at /content/drive\n"
          ],
          "name": "stdout"
        }
      ]
    },
    {
      "cell_type": "code",
      "metadata": {
        "id": "FmNmj7gUYGxW",
        "colab_type": "code",
        "colab": {
          "base_uri": "https://localhost:8080/",
          "height": 204
        },
        "outputId": "c79407fc-b8f8-434d-9b74-e190a26872c2"
      },
      "source": [
        "#hide\n",
        "!pip install -Uqq fastbook\n",
        "import fastbook\n",
        "fastbook.setup_book()"
      ],
      "execution_count": 2,
      "outputs": [
        {
          "output_type": "stream",
          "text": [
            "\u001b[K     |████████████████████████████████| 61kB 2.7MB/s \n",
            "\u001b[K     |████████████████████████████████| 1.0MB 7.3MB/s \n",
            "\u001b[K     |████████████████████████████████| 358kB 19.2MB/s \n",
            "\u001b[K     |████████████████████████████████| 51kB 5.9MB/s \n",
            "\u001b[K     |████████████████████████████████| 92kB 8.6MB/s \n",
            "\u001b[K     |████████████████████████████████| 40kB 5.5MB/s \n",
            "\u001b[K     |████████████████████████████████| 51kB 6.6MB/s \n",
            "\u001b[K     |████████████████████████████████| 61kB 6.6MB/s \n",
            "\u001b[K     |████████████████████████████████| 2.6MB 20.2MB/s \n",
            "\u001b[31mERROR: fastai 2.0.6 has requirement pandas>=1.1.0, but you'll have pandas 1.0.5 which is incompatible.\u001b[0m\n",
            "\u001b[?25hMounted at /content/gdrive\n"
          ],
          "name": "stdout"
        }
      ]
    },
    {
      "cell_type": "code",
      "metadata": {
        "id": "Y9WoI0PkYGxg",
        "colab_type": "code",
        "colab": {}
      },
      "source": [
        "#hide\n",
        "from fastbook import *"
      ],
      "execution_count": 3,
      "outputs": []
    },
    {
      "cell_type": "markdown",
      "metadata": {
        "id": "cWCau5jsEuWV",
        "colab_type": "text"
      },
      "source": [
        "# Training Language model"
      ]
    },
    {
      "cell_type": "code",
      "metadata": {
        "id": "CI_G3J4hDUe5",
        "colab_type": "code",
        "colab": {
          "base_uri": "https://localhost:8080/",
          "height": 236
        },
        "outputId": "4fce4c76-3757-41dd-fd05-4c143d3f6830"
      },
      "source": [
        "from fastai.text.all import *\n",
        " \n",
        "dls = TextDataLoaders.from_folder(untar_data(URLs.IMDB), valid='test', bs=16)\n",
        "learn = text_classifier_learner(dls, AWD_LSTM, drop_mult=0.5, metrics=accuracy)\n",
        "learn.fine_tune(4, 1e-2)"
      ],
      "execution_count": 4,
      "outputs": [
        {
          "output_type": "display_data",
          "data": {
            "text/html": [
              ""
            ],
            "text/plain": [
              "<IPython.core.display.HTML object>"
            ]
          },
          "metadata": {
            "tags": []
          }
        },
        {
          "output_type": "display_data",
          "data": {
            "text/html": [
              ""
            ],
            "text/plain": [
              "<IPython.core.display.HTML object>"
            ]
          },
          "metadata": {
            "tags": []
          }
        },
        {
          "output_type": "display_data",
          "data": {
            "text/html": [
              ""
            ],
            "text/plain": [
              "<IPython.core.display.HTML object>"
            ]
          },
          "metadata": {
            "tags": []
          }
        },
        {
          "output_type": "display_data",
          "data": {
            "text/html": [
              "<table border=\"1\" class=\"dataframe\">\n",
              "  <thead>\n",
              "    <tr style=\"text-align: left;\">\n",
              "      <th>epoch</th>\n",
              "      <th>train_loss</th>\n",
              "      <th>valid_loss</th>\n",
              "      <th>accuracy</th>\n",
              "      <th>time</th>\n",
              "    </tr>\n",
              "  </thead>\n",
              "  <tbody>\n",
              "    <tr>\n",
              "      <td>0</td>\n",
              "      <td>0.615372</td>\n",
              "      <td>0.415917</td>\n",
              "      <td>0.811680</td>\n",
              "      <td>20:38</td>\n",
              "    </tr>\n",
              "  </tbody>\n",
              "</table>"
            ],
            "text/plain": [
              "<IPython.core.display.HTML object>"
            ]
          },
          "metadata": {
            "tags": []
          }
        },
        {
          "output_type": "display_data",
          "data": {
            "text/html": [
              "<table border=\"1\" class=\"dataframe\">\n",
              "  <thead>\n",
              "    <tr style=\"text-align: left;\">\n",
              "      <th>epoch</th>\n",
              "      <th>train_loss</th>\n",
              "      <th>valid_loss</th>\n",
              "      <th>accuracy</th>\n",
              "      <th>time</th>\n",
              "    </tr>\n",
              "  </thead>\n",
              "  <tbody>\n",
              "    <tr>\n",
              "      <td>0</td>\n",
              "      <td>0.298334</td>\n",
              "      <td>0.242986</td>\n",
              "      <td>0.900240</td>\n",
              "      <td>35:28</td>\n",
              "    </tr>\n",
              "    <tr>\n",
              "      <td>1</td>\n",
              "      <td>0.267946</td>\n",
              "      <td>0.226205</td>\n",
              "      <td>0.914000</td>\n",
              "      <td>35:46</td>\n",
              "    </tr>\n",
              "    <tr>\n",
              "      <td>2</td>\n",
              "      <td>0.197395</td>\n",
              "      <td>0.181424</td>\n",
              "      <td>0.930360</td>\n",
              "      <td>35:24</td>\n",
              "    </tr>\n",
              "    <tr>\n",
              "      <td>3</td>\n",
              "      <td>0.146515</td>\n",
              "      <td>0.182509</td>\n",
              "      <td>0.930760</td>\n",
              "      <td>35:22</td>\n",
              "    </tr>\n",
              "  </tbody>\n",
              "</table>"
            ],
            "text/plain": [
              "<IPython.core.display.HTML object>"
            ]
          },
          "metadata": {
            "tags": []
          }
        }
      ]
    },
    {
      "cell_type": "markdown",
      "metadata": {
        "id": "uAq4z8j1rynO",
        "colab_type": "text"
      },
      "source": [
        "---\n",
        "\n",
        "### Web Scrapping\n",
        "\n",
        "**Instead of writing one mini review or copy pasting from the internet, let us scrap some reviews from [rottentomatoes](https://www.rottentomatoes.com/critics/latest_reviews).**\n",
        "\n",
        "**Credit for the scrapping part goes to Dwarkesh Natarajan [medium post](https://medium.com/opex-analytics/simple-web-scraping-in-python-90d6fddfaeca).** \n",
        "\n",
        "---\n",
        "\n"
      ]
    },
    {
      "cell_type": "code",
      "metadata": {
        "id": "BubO_X_talmT",
        "colab_type": "code",
        "colab": {}
      },
      "source": [
        "import requests\n",
        "from bs4 import BeautifulSoup\n",
        "import pandas as pd\n",
        "url = \"https://www.rottentomatoes.com/critics/latest_reviews/\"\n",
        "\n"
      ],
      "execution_count": 5,
      "outputs": []
    },
    {
      "cell_type": "code",
      "metadata": {
        "id": "L-4VcN_U7sTn",
        "colab_type": "code",
        "colab": {}
      },
      "source": [
        "def rottenReviews(url):\n",
        "  '''\n",
        "  This function gets an url from rotten tomatoes latest reviews\n",
        "  and predicts the wether the reviews were positive or negative\n",
        "  and also outputs the probability by which percantage the decision was made\n",
        "  The actual scrapped date has the \"Rating\" which can act kind of label for \n",
        "  the prediction.\n",
        "  '''\n",
        "  #make a request \n",
        "  r = requests.get(url)\n",
        "  soup = BeautifulSoup(r.content)\n",
        "\n",
        "  # make data frame out of our scrapped soup\n",
        "  a = []\n",
        "  df = pd.DataFrame(columns = ['Rating', 'Movie', 'Review',\n",
        "                              'Critics'])\n",
        "  for link in soup.find_all('td'):\n",
        "      a.append(link.get_text())\n",
        "      if len(a) == 4:\n",
        "          df_length = len(df)\n",
        "          df.loc[df_length] = a\n",
        "          a = []\n",
        "\n",
        "  # do some more cleaning\n",
        "  df['Review'] = df['Review'].apply(lambda st: st[st.find(\"\\\"\")+1:st.find(\".\")])\n",
        "  df['Movie'] = df['Movie'].apply(lambda st: st[st.find(\"\\n\")+1:st.find(\"\\n\")])\n",
        "  df['Critics'] = df['Critics'].str.replace(\"\\n\", \" \")\n",
        "  df['Rating'] = df['Rating'].str.replace(\"\\n\", \"\")\n",
        "\n",
        "  # predict the reviews using our pretrained model\n",
        "  predicted_review = []\n",
        "  for rev in df['Review']:\n",
        "    predicted_review.append(learn.predict(rev))\n",
        "\n",
        "\n",
        "  # make a dataframe to store the results better\n",
        "  df1 = pd.DataFrame(columns = ['Predicted Review', 'Neg Prob', 'Pos Prob',\n",
        "                             'Probability'])\n",
        "  \n",
        "  posprob = []\n",
        "  negprob = []\n",
        "  prob = []\n",
        "  revPred = []\n",
        "  for x in predicted_review:\n",
        "    if x[0] == 'pos':\n",
        "      revPred.append(\"Positive\")\n",
        "      prob.append(\"{:.2%}\".format(x[2].numpy()[1]))\n",
        "    else:\n",
        "      revPred.append(\"Negative\")\n",
        "      prob.append(\"{:.2%}\".format(x[2].numpy()[0]))\n",
        "\n",
        "    negprob.append(\"{:.2%}\".format(x[2].numpy()[0]))\n",
        "    posprob.append(\"{:.2%}\".format(x[2].numpy()[1]))\n",
        "\n",
        "  df1['Predicted Review'] = revPred\n",
        "  df1['Probability'] = prob\n",
        "  df1['Neg Prob'] = negprob\n",
        "  df1['Pos Prob'] = posprob\n",
        "\n",
        "  # Present the results we want\n",
        "  dff = pd.DataFrame(df['Rating'])\n",
        "  dff = dff.join(df1[['Predicted Review', 'Probability']])\n",
        "  dff = dff.join(df['Review'])\n",
        "\n",
        "  return dff"
      ],
      "execution_count": 55,
      "outputs": []
    },
    {
      "cell_type": "code",
      "metadata": {
        "id": "dGbiGNK59zjf",
        "colab_type": "code",
        "colab": {
          "base_uri": "https://localhost:8080/",
          "height": 1000
        },
        "outputId": "2ee4cca1-6037-47c2-9661-f8c813211948"
      },
      "source": [
        "reviews = rottenReviews(url)\n",
        "reviews.head(21)"
      ],
      "execution_count": 60,
      "outputs": [
        {
          "output_type": "display_data",
          "data": {
            "text/html": [
              ""
            ],
            "text/plain": [
              "<IPython.core.display.HTML object>"
            ]
          },
          "metadata": {
            "tags": []
          }
        },
        {
          "output_type": "display_data",
          "data": {
            "text/html": [
              ""
            ],
            "text/plain": [
              "<IPython.core.display.HTML object>"
            ]
          },
          "metadata": {
            "tags": []
          }
        },
        {
          "output_type": "display_data",
          "data": {
            "text/html": [
              ""
            ],
            "text/plain": [
              "<IPython.core.display.HTML object>"
            ]
          },
          "metadata": {
            "tags": []
          }
        },
        {
          "output_type": "display_data",
          "data": {
            "text/html": [
              ""
            ],
            "text/plain": [
              "<IPython.core.display.HTML object>"
            ]
          },
          "metadata": {
            "tags": []
          }
        },
        {
          "output_type": "display_data",
          "data": {
            "text/html": [
              ""
            ],
            "text/plain": [
              "<IPython.core.display.HTML object>"
            ]
          },
          "metadata": {
            "tags": []
          }
        },
        {
          "output_type": "display_data",
          "data": {
            "text/html": [
              ""
            ],
            "text/plain": [
              "<IPython.core.display.HTML object>"
            ]
          },
          "metadata": {
            "tags": []
          }
        },
        {
          "output_type": "display_data",
          "data": {
            "text/html": [
              ""
            ],
            "text/plain": [
              "<IPython.core.display.HTML object>"
            ]
          },
          "metadata": {
            "tags": []
          }
        },
        {
          "output_type": "display_data",
          "data": {
            "text/html": [
              ""
            ],
            "text/plain": [
              "<IPython.core.display.HTML object>"
            ]
          },
          "metadata": {
            "tags": []
          }
        },
        {
          "output_type": "display_data",
          "data": {
            "text/html": [
              ""
            ],
            "text/plain": [
              "<IPython.core.display.HTML object>"
            ]
          },
          "metadata": {
            "tags": []
          }
        },
        {
          "output_type": "display_data",
          "data": {
            "text/html": [
              ""
            ],
            "text/plain": [
              "<IPython.core.display.HTML object>"
            ]
          },
          "metadata": {
            "tags": []
          }
        },
        {
          "output_type": "display_data",
          "data": {
            "text/html": [
              ""
            ],
            "text/plain": [
              "<IPython.core.display.HTML object>"
            ]
          },
          "metadata": {
            "tags": []
          }
        },
        {
          "output_type": "display_data",
          "data": {
            "text/html": [
              ""
            ],
            "text/plain": [
              "<IPython.core.display.HTML object>"
            ]
          },
          "metadata": {
            "tags": []
          }
        },
        {
          "output_type": "display_data",
          "data": {
            "text/html": [
              ""
            ],
            "text/plain": [
              "<IPython.core.display.HTML object>"
            ]
          },
          "metadata": {
            "tags": []
          }
        },
        {
          "output_type": "display_data",
          "data": {
            "text/html": [
              ""
            ],
            "text/plain": [
              "<IPython.core.display.HTML object>"
            ]
          },
          "metadata": {
            "tags": []
          }
        },
        {
          "output_type": "display_data",
          "data": {
            "text/html": [
              ""
            ],
            "text/plain": [
              "<IPython.core.display.HTML object>"
            ]
          },
          "metadata": {
            "tags": []
          }
        },
        {
          "output_type": "display_data",
          "data": {
            "text/html": [
              ""
            ],
            "text/plain": [
              "<IPython.core.display.HTML object>"
            ]
          },
          "metadata": {
            "tags": []
          }
        },
        {
          "output_type": "display_data",
          "data": {
            "text/html": [
              ""
            ],
            "text/plain": [
              "<IPython.core.display.HTML object>"
            ]
          },
          "metadata": {
            "tags": []
          }
        },
        {
          "output_type": "display_data",
          "data": {
            "text/html": [
              ""
            ],
            "text/plain": [
              "<IPython.core.display.HTML object>"
            ]
          },
          "metadata": {
            "tags": []
          }
        },
        {
          "output_type": "display_data",
          "data": {
            "text/html": [
              ""
            ],
            "text/plain": [
              "<IPython.core.display.HTML object>"
            ]
          },
          "metadata": {
            "tags": []
          }
        },
        {
          "output_type": "display_data",
          "data": {
            "text/html": [
              ""
            ],
            "text/plain": [
              "<IPython.core.display.HTML object>"
            ]
          },
          "metadata": {
            "tags": []
          }
        },
        {
          "output_type": "display_data",
          "data": {
            "text/html": [
              ""
            ],
            "text/plain": [
              "<IPython.core.display.HTML object>"
            ]
          },
          "metadata": {
            "tags": []
          }
        },
        {
          "output_type": "display_data",
          "data": {
            "text/html": [
              ""
            ],
            "text/plain": [
              "<IPython.core.display.HTML object>"
            ]
          },
          "metadata": {
            "tags": []
          }
        },
        {
          "output_type": "display_data",
          "data": {
            "text/html": [
              ""
            ],
            "text/plain": [
              "<IPython.core.display.HTML object>"
            ]
          },
          "metadata": {
            "tags": []
          }
        },
        {
          "output_type": "display_data",
          "data": {
            "text/html": [
              ""
            ],
            "text/plain": [
              "<IPython.core.display.HTML object>"
            ]
          },
          "metadata": {
            "tags": []
          }
        },
        {
          "output_type": "display_data",
          "data": {
            "text/html": [
              ""
            ],
            "text/plain": [
              "<IPython.core.display.HTML object>"
            ]
          },
          "metadata": {
            "tags": []
          }
        },
        {
          "output_type": "execute_result",
          "data": {
            "text/html": [
              "<div>\n",
              "<style scoped>\n",
              "    .dataframe tbody tr th:only-of-type {\n",
              "        vertical-align: middle;\n",
              "    }\n",
              "\n",
              "    .dataframe tbody tr th {\n",
              "        vertical-align: top;\n",
              "    }\n",
              "\n",
              "    .dataframe thead th {\n",
              "        text-align: right;\n",
              "    }\n",
              "</style>\n",
              "<table border=\"1\" class=\"dataframe\">\n",
              "  <thead>\n",
              "    <tr style=\"text-align: right;\">\n",
              "      <th></th>\n",
              "      <th>Rating</th>\n",
              "      <th>Predicted Review</th>\n",
              "      <th>Probability</th>\n",
              "      <th>Review</th>\n",
              "    </tr>\n",
              "  </thead>\n",
              "  <tbody>\n",
              "    <tr>\n",
              "      <th>0</th>\n",
              "      <td>2.5/5</td>\n",
              "      <td>Negative</td>\n",
              "      <td>77.01%</td>\n",
              "      <td>Though high on style and atmosphere, Hall fails to populate its appealing setup with the required suspense</td>\n",
              "    </tr>\n",
              "    <tr>\n",
              "      <th>1</th>\n",
              "      <td>3/5</td>\n",
              "      <td>Positive</td>\n",
              "      <td>90.35%</td>\n",
              "      <td>This amusing horror from Down Under doesn't reinvent the wheel, but benefits from its punchy social commentary and grisly third act</td>\n",
              "    </tr>\n",
              "    <tr>\n",
              "      <th>2</th>\n",
              "      <td></td>\n",
              "      <td>Positive</td>\n",
              "      <td>84.27%</td>\n",
              "      <td>a literal mind-melt, pitting an unbalanced neuroscientist against different isolated sections of his brain</td>\n",
              "    </tr>\n",
              "    <tr>\n",
              "      <th>3</th>\n",
              "      <td></td>\n",
              "      <td>Positive</td>\n",
              "      <td>86.57%</td>\n",
              "      <td>Armando Fonseca and Kapel Furman bring bloody bedlam and an allegory of national rapine to the streets of contemporary São Paulo</td>\n",
              "    </tr>\n",
              "    <tr>\n",
              "      <th>4</th>\n",
              "      <td></td>\n",
              "      <td>Positive</td>\n",
              "      <td>85.62%</td>\n",
              "      <td>A drunken Australian step-cousin of 1970s European and American cinema, Parish Malfitano's excellent debut is a rich minestrone stew of cinephilic allusions</td>\n",
              "    </tr>\n",
              "    <tr>\n",
              "      <th>5</th>\n",
              "      <td>5/10</td>\n",
              "      <td>Positive</td>\n",
              "      <td>62.60%</td>\n",
              "      <td>The first problem with the film is the amount of time it takes before the monster appears</td>\n",
              "    </tr>\n",
              "    <tr>\n",
              "      <th>6</th>\n",
              "      <td>3/10</td>\n",
              "      <td>Negative</td>\n",
              "      <td>98.78%</td>\n",
              "      <td>It seems pointless to criticize a film for small errors when the low budget and ridiculous nature of the story and characters make the whole ordeal a moviemaking joke</td>\n",
              "    </tr>\n",
              "    <tr>\n",
              "      <th>7</th>\n",
              "      <td>6/10</td>\n",
              "      <td>Negative</td>\n",
              "      <td>78.17%</td>\n",
              "      <td>Bare breasts and brutal violence always seem to present themselves just when audiences might start to focus on the more nonsensical bits</td>\n",
              "    </tr>\n",
              "    <tr>\n",
              "      <th>8</th>\n",
              "      <td>7/10</td>\n",
              "      <td>Positive</td>\n",
              "      <td>93.44%</td>\n",
              "      <td>A ghastly little sea-faring thriller worthy of a viewing</td>\n",
              "    </tr>\n",
              "    <tr>\n",
              "      <th>9</th>\n",
              "      <td>6/10</td>\n",
              "      <td>Positive</td>\n",
              "      <td>74.75%</td>\n",
              "      <td>The plot isn't terribly creative, but it effectively sets up some delightfully gory ambushes and boo moments for the revealing of dismembered corpses</td>\n",
              "    </tr>\n",
              "    <tr>\n",
              "      <th>10</th>\n",
              "      <td>4/10</td>\n",
              "      <td>Negative</td>\n",
              "      <td>72.50%</td>\n",
              "      <td>It feels as if the writers have completely run out of ideas for utilizing one of the most popular vigilantes in cinema history</td>\n",
              "    </tr>\n",
              "    <tr>\n",
              "      <th>11</th>\n",
              "      <td>3/10</td>\n",
              "      <td>Positive</td>\n",
              "      <td>79.56%</td>\n",
              "      <td>Ironically enough, the most believable cyborg is Van Damme</td>\n",
              "    </tr>\n",
              "    <tr>\n",
              "      <th>12</th>\n",
              "      <td>3/5</td>\n",
              "      <td>Positive</td>\n",
              "      <td>99.01%</td>\n",
              "      <td>Two Heads Creek is a witty, fun-filled comedy that delights in (eventually) splattering the red stuff everywhere</td>\n",
              "    </tr>\n",
              "    <tr>\n",
              "      <th>13</th>\n",
              "      <td>3/5</td>\n",
              "      <td>Positive</td>\n",
              "      <td>95.31%</td>\n",
              "      <td>Domestic abuse and superbugs collide in Hall, an atmospheric high stakes tale of two women trying escape, not only a deadly virus, but the men that control them too</td>\n",
              "    </tr>\n",
              "    <tr>\n",
              "      <th>14</th>\n",
              "      <td></td>\n",
              "      <td>Positive</td>\n",
              "      <td>98.80%</td>\n",
              "      <td>while all these oneiric stories, and stories-within-stories, may show familial and societal breakdown 'in another world' (or other worlds), they also reflect, en abyme, a broader entropy in our own</td>\n",
              "    </tr>\n",
              "    <tr>\n",
              "      <th>15</th>\n",
              "      <td>3/5</td>\n",
              "      <td>Positive</td>\n",
              "      <td>99.66%</td>\n",
              "      <td>Fun, frolics, and frights await those that seek out Aquaslash</td>\n",
              "    </tr>\n",
              "    <tr>\n",
              "      <th>16</th>\n",
              "      <td>6/10</td>\n",
              "      <td>Positive</td>\n",
              "      <td>95.20%</td>\n",
              "      <td>At certain moments, it's as if flawed individuals are met with toothy reprisal in a twisted form of justice - where survival defines worth</td>\n",
              "    </tr>\n",
              "    <tr>\n",
              "      <th>17</th>\n",
              "      <td>4/10</td>\n",
              "      <td>Negative</td>\n",
              "      <td>75.90%</td>\n",
              "      <td>Designed just to give Dundee a few more opportunities for humorous, heroic problem-solving rather than to create a worthwhile plot for the Australian's unique talents</td>\n",
              "    </tr>\n",
              "    <tr>\n",
              "      <th>18</th>\n",
              "      <td>8/10</td>\n",
              "      <td>Positive</td>\n",
              "      <td>98.77%</td>\n",
              "      <td>A proficient blend of comedy, romance, and thrills that stays consistent from beginning to end</td>\n",
              "    </tr>\n",
              "    <tr>\n",
              "      <th>19</th>\n",
              "      <td>B-</td>\n",
              "      <td>Positive</td>\n",
              "      <td>97.49%</td>\n",
              "      <td>Like a reality TV show cinema vérité</td>\n",
              "    </tr>\n",
              "    <tr>\n",
              "      <th>20</th>\n",
              "      <td>3.5/5</td>\n",
              "      <td>Positive</td>\n",
              "      <td>98.47%</td>\n",
              "      <td>Forward-facing and not trapped in its past, this third installment offers welcome escapism amid a world that does, in fact, feel very much in need of saving</td>\n",
              "    </tr>\n",
              "  </tbody>\n",
              "</table>\n",
              "</div>"
            ],
            "text/plain": [
              "   Rating Predicted Review Probability  \\\n",
              "0   2.5/5         Negative      77.01%   \n",
              "1     3/5         Positive      90.35%   \n",
              "2                 Positive      84.27%   \n",
              "3                 Positive      86.57%   \n",
              "4                 Positive      85.62%   \n",
              "5    5/10         Positive      62.60%   \n",
              "6    3/10         Negative      98.78%   \n",
              "7    6/10         Negative      78.17%   \n",
              "8    7/10         Positive      93.44%   \n",
              "9    6/10         Positive      74.75%   \n",
              "10   4/10         Negative      72.50%   \n",
              "11   3/10         Positive      79.56%   \n",
              "12    3/5         Positive      99.01%   \n",
              "13    3/5         Positive      95.31%   \n",
              "14                Positive      98.80%   \n",
              "15    3/5         Positive      99.66%   \n",
              "16   6/10         Positive      95.20%   \n",
              "17   4/10         Negative      75.90%   \n",
              "18   8/10         Positive      98.77%   \n",
              "19     B-         Positive      97.49%   \n",
              "20  3.5/5         Positive      98.47%   \n",
              "\n",
              "                                                                                                                                                                                                   Review  \n",
              "0                                                                                              Though high on style and atmosphere, Hall fails to populate its appealing setup with the required suspense  \n",
              "1                                                                     This amusing horror from Down Under doesn't reinvent the wheel, but benefits from its punchy social commentary and grisly third act  \n",
              "2                                                                                              a literal mind-melt, pitting an unbalanced neuroscientist against different isolated sections of his brain  \n",
              "3                                                                        Armando Fonseca and Kapel Furman bring bloody bedlam and an allegory of national rapine to the streets of contemporary São Paulo  \n",
              "4                                            A drunken Australian step-cousin of 1970s European and American cinema, Parish Malfitano's excellent debut is a rich minestrone stew of cinephilic allusions  \n",
              "5                                                                                                               The first problem with the film is the amount of time it takes before the monster appears  \n",
              "6                                  It seems pointless to criticize a film for small errors when the low budget and ridiculous nature of the story and characters make the whole ordeal a moviemaking joke  \n",
              "7                                                                Bare breasts and brutal violence always seem to present themselves just when audiences might start to focus on the more nonsensical bits  \n",
              "8                                                                                                                                                A ghastly little sea-faring thriller worthy of a viewing  \n",
              "9                                                   The plot isn't terribly creative, but it effectively sets up some delightfully gory ambushes and boo moments for the revealing of dismembered corpses  \n",
              "10                                                                         It feels as if the writers have completely run out of ideas for utilizing one of the most popular vigilantes in cinema history  \n",
              "11                                                                                                                                            Ironically enough, the most believable cyborg is Van Damme   \n",
              "12                                                                                       Two Heads Creek is a witty, fun-filled comedy that delights in (eventually) splattering the red stuff everywhere  \n",
              "13                                   Domestic abuse and superbugs collide in Hall, an atmospheric high stakes tale of two women trying escape, not only a deadly virus, but the men that control them too  \n",
              "14  while all these oneiric stories, and stories-within-stories, may show familial and societal breakdown 'in another world' (or other worlds), they also reflect, en abyme, a broader entropy in our own  \n",
              "15                                                                                                                                          Fun, frolics, and frights await those that seek out Aquaslash  \n",
              "16                                                             At certain moments, it's as if flawed individuals are met with toothy reprisal in a twisted form of justice - where survival defines worth  \n",
              "17                                 Designed just to give Dundee a few more opportunities for humorous, heroic problem-solving rather than to create a worthwhile plot for the Australian's unique talents  \n",
              "18                                                                                                         A proficient blend of comedy, romance, and thrills that stays consistent from beginning to end  \n",
              "19                                                                                                                                                                   Like a reality TV show cinema vérité  \n",
              "20                                           Forward-facing and not trapped in its past, this third installment offers welcome escapism amid a world that does, in fact, feel very much in need of saving  "
            ]
          },
          "metadata": {
            "tags": []
          },
          "execution_count": 60
        }
      ]
    },
    {
      "cell_type": "markdown",
      "metadata": {
        "id": "0Aembye8oGVU",
        "colab_type": "text"
      },
      "source": [
        "**We can see that this model predicts almost most of our movie reviews with their rating with impunity, however fails to capture cemantic meaning, sarcasm especially in a very short review (see # 11)**"
      ]
    },
    {
      "cell_type": "markdown",
      "metadata": {
        "id": "M6YaSWXv26vO",
        "colab_type": "text"
      },
      "source": [
        ""
      ]
    }
  ]
}